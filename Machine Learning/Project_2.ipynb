{
 "cells": [
  {
   "cell_type": "markdown",
   "metadata": {
    "id": "pfWX0_lVTJlb"
   },
   "source": [
    "### Project 2: (10 points)\n",
    "##### Total (20 points) --> your total will divided by 2 to get 10 points."
   ]
  },
  {
   "cell_type": "markdown",
   "metadata": {
    "id": "hmPG6_GETJld"
   },
   "source": [
    "To demonstrate clustring, we will be use an adapted version of the glass dataset from the University of California – Irvine.\n",
    "This data contains 218 observations and 9 features corresponding to the percent weight of various oxides found in glass:\n",
    "\n",
    "* RI: refractive index\n",
    "* Na: weight percent in sodium\n",
    "* Mg: weight percent in magnesium\n",
    "* Al: weight percent in aluminum\n",
    "* Si: weight percent in silicon\n",
    "* K: weight percent in potassium\n",
    "* Ca: weight percent in calcium\n",
    "* Ba: weight percent in barium\n",
    "* Fe: weight percent in iron\n",
    "\n",
    "In this case study, we will use the refractive index (RI) and weight percent in each oxide to segment the glass type."
   ]
  },
  {
   "cell_type": "markdown",
   "metadata": {
    "id": "HRrKMRR4TJld"
   },
   "source": [
    "**Dataset:**\n",
    "You can find the dataset (glass.csv) under the datasets section on the Canvas."
   ]
  },
  {
   "cell_type": "markdown",
   "metadata": {
    "id": "wonQ9yepTJld"
   },
   "source": [
    "### Step to do:"
   ]
  },
  {
   "cell_type": "markdown",
   "metadata": {
    "id": "rEfYR7krTJle"
   },
   "source": [
    "        1. Importing Packages Required:"
   ]
  },
  {
   "cell_type": "code",
   "execution_count": 1,
   "metadata": {
    "id": "F1ke4eF0TJle"
   },
   "outputs": [],
   "source": [
    "#\n",
    "import warnings\n",
    "warnings.filterwarnings(\"ignore\")\n",
    "import pandas as pd\n",
    "import numpy as np\n",
    "import seaborn as sns\n",
    "from sklearn.utils import shuffle\n",
    "from sklearn.preprocessing import StandardScaler\n",
    "from scipy.cluster.hierarchy import linkage\n",
    "import matplotlib.pyplot as plt\n",
    "from scipy.cluster.hierarchy import dendrogram\n",
    "from sklearn.cluster import KMeans\n",
    "from sklearn.metrics import silhouette_score\n",
    "from sklearn.decomposition import PCA\n",
    "import scipy.cluster.hierarchy as shc\n",
    "\n",
    "from scipy.stats import zscore\n",
    "from sklearn.cluster import AgglomerativeClustering\n",
    "from sklearn.metrics import silhouette_score\n",
    "from scipy.cluster.hierarchy import dendrogram, linkage"
   ]
  },
  {
   "cell_type": "markdown",
   "metadata": {
    "id": "7vv2G38vTJlf"
   },
   "source": [
    "    2. Read the Data in the Memory."
   ]
  },
  {
   "cell_type": "code",
   "execution_count": 2,
   "metadata": {
    "id": "OQHeDS3nTJlf"
   },
   "outputs": [
    {
     "data": {
      "text/html": [
       "<div>\n",
       "<style scoped>\n",
       "    .dataframe tbody tr th:only-of-type {\n",
       "        vertical-align: middle;\n",
       "    }\n",
       "\n",
       "    .dataframe tbody tr th {\n",
       "        vertical-align: top;\n",
       "    }\n",
       "\n",
       "    .dataframe thead th {\n",
       "        text-align: right;\n",
       "    }\n",
       "</style>\n",
       "<table border=\"1\" class=\"dataframe\">\n",
       "  <thead>\n",
       "    <tr style=\"text-align: right;\">\n",
       "      <th></th>\n",
       "      <th>RI</th>\n",
       "      <th>Na</th>\n",
       "      <th>Mg</th>\n",
       "      <th>Al</th>\n",
       "      <th>Si</th>\n",
       "      <th>K</th>\n",
       "      <th>Ca</th>\n",
       "      <th>Ba</th>\n",
       "      <th>Fe</th>\n",
       "    </tr>\n",
       "  </thead>\n",
       "  <tbody>\n",
       "    <tr>\n",
       "      <th>0</th>\n",
       "      <td>1.52101</td>\n",
       "      <td>13.64</td>\n",
       "      <td>4.49</td>\n",
       "      <td>1.10</td>\n",
       "      <td>71.78</td>\n",
       "      <td>0.06</td>\n",
       "      <td>8.75</td>\n",
       "      <td>0.00</td>\n",
       "      <td>0.0</td>\n",
       "    </tr>\n",
       "    <tr>\n",
       "      <th>1</th>\n",
       "      <td>1.51761</td>\n",
       "      <td>13.89</td>\n",
       "      <td>3.60</td>\n",
       "      <td>1.36</td>\n",
       "      <td>72.73</td>\n",
       "      <td>0.48</td>\n",
       "      <td>7.83</td>\n",
       "      <td>0.00</td>\n",
       "      <td>0.0</td>\n",
       "    </tr>\n",
       "    <tr>\n",
       "      <th>2</th>\n",
       "      <td>1.51618</td>\n",
       "      <td>13.53</td>\n",
       "      <td>3.55</td>\n",
       "      <td>1.54</td>\n",
       "      <td>72.99</td>\n",
       "      <td>0.39</td>\n",
       "      <td>7.78</td>\n",
       "      <td>0.00</td>\n",
       "      <td>0.0</td>\n",
       "    </tr>\n",
       "    <tr>\n",
       "      <th>3</th>\n",
       "      <td>1.51766</td>\n",
       "      <td>13.21</td>\n",
       "      <td>3.69</td>\n",
       "      <td>1.29</td>\n",
       "      <td>72.61</td>\n",
       "      <td>0.57</td>\n",
       "      <td>8.22</td>\n",
       "      <td>0.00</td>\n",
       "      <td>0.0</td>\n",
       "    </tr>\n",
       "    <tr>\n",
       "      <th>4</th>\n",
       "      <td>1.51742</td>\n",
       "      <td>13.27</td>\n",
       "      <td>3.62</td>\n",
       "      <td>1.24</td>\n",
       "      <td>73.08</td>\n",
       "      <td>0.55</td>\n",
       "      <td>8.07</td>\n",
       "      <td>0.00</td>\n",
       "      <td>0.0</td>\n",
       "    </tr>\n",
       "    <tr>\n",
       "      <th>...</th>\n",
       "      <td>...</td>\n",
       "      <td>...</td>\n",
       "      <td>...</td>\n",
       "      <td>...</td>\n",
       "      <td>...</td>\n",
       "      <td>...</td>\n",
       "      <td>...</td>\n",
       "      <td>...</td>\n",
       "      <td>...</td>\n",
       "    </tr>\n",
       "    <tr>\n",
       "      <th>213</th>\n",
       "      <td>1.51645</td>\n",
       "      <td>14.94</td>\n",
       "      <td>0.00</td>\n",
       "      <td>1.87</td>\n",
       "      <td>73.11</td>\n",
       "      <td>0.00</td>\n",
       "      <td>8.67</td>\n",
       "      <td>1.38</td>\n",
       "      <td>0.0</td>\n",
       "    </tr>\n",
       "    <tr>\n",
       "      <th>214</th>\n",
       "      <td>1.51831</td>\n",
       "      <td>14.39</td>\n",
       "      <td>0.00</td>\n",
       "      <td>1.82</td>\n",
       "      <td>72.86</td>\n",
       "      <td>1.41</td>\n",
       "      <td>6.47</td>\n",
       "      <td>2.88</td>\n",
       "      <td>0.0</td>\n",
       "    </tr>\n",
       "    <tr>\n",
       "      <th>215</th>\n",
       "      <td>1.51640</td>\n",
       "      <td>14.37</td>\n",
       "      <td>0.00</td>\n",
       "      <td>2.74</td>\n",
       "      <td>72.85</td>\n",
       "      <td>0.00</td>\n",
       "      <td>9.45</td>\n",
       "      <td>0.54</td>\n",
       "      <td>0.0</td>\n",
       "    </tr>\n",
       "    <tr>\n",
       "      <th>216</th>\n",
       "      <td>1.51623</td>\n",
       "      <td>14.14</td>\n",
       "      <td>0.00</td>\n",
       "      <td>2.88</td>\n",
       "      <td>72.61</td>\n",
       "      <td>0.08</td>\n",
       "      <td>9.18</td>\n",
       "      <td>1.06</td>\n",
       "      <td>0.0</td>\n",
       "    </tr>\n",
       "    <tr>\n",
       "      <th>217</th>\n",
       "      <td>1.51685</td>\n",
       "      <td>14.92</td>\n",
       "      <td>0.00</td>\n",
       "      <td>1.99</td>\n",
       "      <td>73.06</td>\n",
       "      <td>0.00</td>\n",
       "      <td>8.40</td>\n",
       "      <td>1.59</td>\n",
       "      <td>0.0</td>\n",
       "    </tr>\n",
       "  </tbody>\n",
       "</table>\n",
       "<p>218 rows × 9 columns</p>\n",
       "</div>"
      ],
      "text/plain": [
       "          RI     Na    Mg    Al     Si     K    Ca    Ba   Fe\n",
       "0    1.52101  13.64  4.49  1.10  71.78  0.06  8.75  0.00  0.0\n",
       "1    1.51761  13.89  3.60  1.36  72.73  0.48  7.83  0.00  0.0\n",
       "2    1.51618  13.53  3.55  1.54  72.99  0.39  7.78  0.00  0.0\n",
       "3    1.51766  13.21  3.69  1.29  72.61  0.57  8.22  0.00  0.0\n",
       "4    1.51742  13.27  3.62  1.24  73.08  0.55  8.07  0.00  0.0\n",
       "..       ...    ...   ...   ...    ...   ...   ...   ...  ...\n",
       "213  1.51645  14.94  0.00  1.87  73.11  0.00  8.67  1.38  0.0\n",
       "214  1.51831  14.39  0.00  1.82  72.86  1.41  6.47  2.88  0.0\n",
       "215  1.51640  14.37  0.00  2.74  72.85  0.00  9.45  0.54  0.0\n",
       "216  1.51623  14.14  0.00  2.88  72.61  0.08  9.18  1.06  0.0\n",
       "217  1.51685  14.92  0.00  1.99  73.06  0.00  8.40  1.59  0.0\n",
       "\n",
       "[218 rows x 9 columns]"
      ]
     },
     "execution_count": 2,
     "metadata": {},
     "output_type": "execute_result"
    }
   ],
   "source": [
    "glass_df = pd.read_csv('glass.csv')\n",
    "glass_df"
   ]
  },
  {
   "cell_type": "markdown",
   "metadata": {
    "id": "TCqBA6DhTJlf"
   },
   "source": [
    "    3. Print the Size of the Dataset and Printing the First Few Rows of the Dataset"
   ]
  },
  {
   "cell_type": "code",
   "execution_count": 3,
   "metadata": {
    "id": "6xUFIDPjTJlf"
   },
   "outputs": [
    {
     "data": {
      "text/plain": [
       "1962"
      ]
     },
     "execution_count": 3,
     "metadata": {},
     "output_type": "execute_result"
    }
   ],
   "source": [
    "glass_df.size"
   ]
  },
  {
   "cell_type": "code",
   "execution_count": 4,
   "metadata": {},
   "outputs": [
    {
     "name": "stdout",
     "output_type": "stream",
     "text": [
      "        RI     Na    Mg    Al     Si     K    Ca   Ba    Fe\n",
      "0  1.52101  13.64  4.49  1.10  71.78  0.06  8.75  0.0  0.00\n",
      "1  1.51761  13.89  3.60  1.36  72.73  0.48  7.83  0.0  0.00\n",
      "2  1.51618  13.53  3.55  1.54  72.99  0.39  7.78  0.0  0.00\n",
      "3  1.51766  13.21  3.69  1.29  72.61  0.57  8.22  0.0  0.00\n",
      "4  1.51742  13.27  3.62  1.24  73.08  0.55  8.07  0.0  0.00\n",
      "5  1.51596  12.79  3.61  1.62  72.97  0.64  8.07  0.0  0.26\n",
      "6  1.51743  13.30  3.60  1.14  73.09  0.58  8.17  0.0  0.00\n",
      "7  1.51756  13.15  3.61  1.05  73.24  0.57  8.24  0.0  0.00\n",
      "8  1.51918  14.04  3.58  1.37  72.08  0.56  8.30  0.0  0.00\n",
      "9  1.51755  13.00  3.60  1.36  72.99  0.57  8.40  0.0  0.11\n"
     ]
    }
   ],
   "source": [
    "print(glass_df.head(10))"
   ]
  },
  {
   "cell_type": "markdown",
   "metadata": {
    "id": "62l9wUiZTJlf"
   },
   "source": [
    "    4. Look for some basic data frame information  ( 1 point)"
   ]
  },
  {
   "cell_type": "code",
   "execution_count": 5,
   "metadata": {
    "id": "8lJHSXJqTJlf"
   },
   "outputs": [
    {
     "data": {
      "text/plain": [
       "(218, 9)"
      ]
     },
     "execution_count": 5,
     "metadata": {},
     "output_type": "execute_result"
    }
   ],
   "source": [
    "glass_df.shape"
   ]
  },
  {
   "cell_type": "code",
   "execution_count": 6,
   "metadata": {},
   "outputs": [
    {
     "name": "stdout",
     "output_type": "stream",
     "text": [
      "<class 'pandas.core.frame.DataFrame'>\n",
      "RangeIndex: 218 entries, 0 to 217\n",
      "Data columns (total 9 columns):\n",
      " #   Column  Non-Null Count  Dtype  \n",
      "---  ------  --------------  -----  \n",
      " 0   RI      218 non-null    float64\n",
      " 1   Na      218 non-null    float64\n",
      " 2   Mg      218 non-null    float64\n",
      " 3   Al      218 non-null    float64\n",
      " 4   Si      218 non-null    float64\n",
      " 5   K       218 non-null    float64\n",
      " 6   Ca      218 non-null    float64\n",
      " 7   Ba      218 non-null    float64\n",
      " 8   Fe      218 non-null    float64\n",
      "dtypes: float64(9)\n",
      "memory usage: 15.5 KB\n"
     ]
    }
   ],
   "source": [
    "glass_df.info()"
   ]
  },
  {
   "cell_type": "code",
   "execution_count": 7,
   "metadata": {},
   "outputs": [
    {
     "data": {
      "text/html": [
       "<div>\n",
       "<style scoped>\n",
       "    .dataframe tbody tr th:only-of-type {\n",
       "        vertical-align: middle;\n",
       "    }\n",
       "\n",
       "    .dataframe tbody tr th {\n",
       "        vertical-align: top;\n",
       "    }\n",
       "\n",
       "    .dataframe thead th {\n",
       "        text-align: right;\n",
       "    }\n",
       "</style>\n",
       "<table border=\"1\" class=\"dataframe\">\n",
       "  <thead>\n",
       "    <tr style=\"text-align: right;\">\n",
       "      <th></th>\n",
       "      <th>RI</th>\n",
       "      <th>Na</th>\n",
       "      <th>Mg</th>\n",
       "      <th>Al</th>\n",
       "      <th>Si</th>\n",
       "      <th>K</th>\n",
       "      <th>Ca</th>\n",
       "      <th>Ba</th>\n",
       "      <th>Fe</th>\n",
       "    </tr>\n",
       "  </thead>\n",
       "  <tbody>\n",
       "    <tr>\n",
       "      <th>count</th>\n",
       "      <td>218.000000</td>\n",
       "      <td>218.000000</td>\n",
       "      <td>218.000000</td>\n",
       "      <td>218.000000</td>\n",
       "      <td>218.00000</td>\n",
       "      <td>218.000000</td>\n",
       "      <td>218.000000</td>\n",
       "      <td>218.000000</td>\n",
       "      <td>218.000000</td>\n",
       "    </tr>\n",
       "    <tr>\n",
       "      <th>mean</th>\n",
       "      <td>1.518109</td>\n",
       "      <td>13.599037</td>\n",
       "      <td>2.330505</td>\n",
       "      <td>1.570367</td>\n",
       "      <td>72.74555</td>\n",
       "      <td>0.431468</td>\n",
       "      <td>8.799083</td>\n",
       "      <td>0.364358</td>\n",
       "      <td>0.049679</td>\n",
       "    </tr>\n",
       "    <tr>\n",
       "      <th>std</th>\n",
       "      <td>0.003002</td>\n",
       "      <td>0.873300</td>\n",
       "      <td>1.643503</td>\n",
       "      <td>0.539291</td>\n",
       "      <td>0.76070</td>\n",
       "      <td>0.435318</td>\n",
       "      <td>1.307588</td>\n",
       "      <td>0.647118</td>\n",
       "      <td>0.086666</td>\n",
       "    </tr>\n",
       "    <tr>\n",
       "      <th>min</th>\n",
       "      <td>1.511310</td>\n",
       "      <td>10.730000</td>\n",
       "      <td>0.000000</td>\n",
       "      <td>0.290000</td>\n",
       "      <td>69.81000</td>\n",
       "      <td>0.000000</td>\n",
       "      <td>5.430000</td>\n",
       "      <td>0.000000</td>\n",
       "      <td>0.000000</td>\n",
       "    </tr>\n",
       "    <tr>\n",
       "      <th>25%</th>\n",
       "      <td>1.516333</td>\n",
       "      <td>12.990000</td>\n",
       "      <td>0.000000</td>\n",
       "      <td>1.230000</td>\n",
       "      <td>72.39250</td>\n",
       "      <td>0.052500</td>\n",
       "      <td>8.270000</td>\n",
       "      <td>0.000000</td>\n",
       "      <td>0.000000</td>\n",
       "    </tr>\n",
       "    <tr>\n",
       "      <th>50%</th>\n",
       "      <td>1.517390</td>\n",
       "      <td>13.440000</td>\n",
       "      <td>3.430000</td>\n",
       "      <td>1.445000</td>\n",
       "      <td>72.90500</td>\n",
       "      <td>0.540000</td>\n",
       "      <td>8.590000</td>\n",
       "      <td>0.000000</td>\n",
       "      <td>0.000000</td>\n",
       "    </tr>\n",
       "    <tr>\n",
       "      <th>75%</th>\n",
       "      <td>1.518467</td>\n",
       "      <td>14.320000</td>\n",
       "      <td>3.580000</td>\n",
       "      <td>1.930000</td>\n",
       "      <td>73.13500</td>\n",
       "      <td>0.610000</td>\n",
       "      <td>9.015000</td>\n",
       "      <td>0.610000</td>\n",
       "      <td>0.090000</td>\n",
       "    </tr>\n",
       "    <tr>\n",
       "      <th>max</th>\n",
       "      <td>1.533930</td>\n",
       "      <td>15.790000</td>\n",
       "      <td>4.490000</td>\n",
       "      <td>2.880000</td>\n",
       "      <td>75.18000</td>\n",
       "      <td>2.700000</td>\n",
       "      <td>16.190000</td>\n",
       "      <td>3.150000</td>\n",
       "      <td>0.350000</td>\n",
       "    </tr>\n",
       "  </tbody>\n",
       "</table>\n",
       "</div>"
      ],
      "text/plain": [
       "               RI          Na          Mg          Al         Si           K  \\\n",
       "count  218.000000  218.000000  218.000000  218.000000  218.00000  218.000000   \n",
       "mean     1.518109   13.599037    2.330505    1.570367   72.74555    0.431468   \n",
       "std      0.003002    0.873300    1.643503    0.539291    0.76070    0.435318   \n",
       "min      1.511310   10.730000    0.000000    0.290000   69.81000    0.000000   \n",
       "25%      1.516333   12.990000    0.000000    1.230000   72.39250    0.052500   \n",
       "50%      1.517390   13.440000    3.430000    1.445000   72.90500    0.540000   \n",
       "75%      1.518467   14.320000    3.580000    1.930000   73.13500    0.610000   \n",
       "max      1.533930   15.790000    4.490000    2.880000   75.18000    2.700000   \n",
       "\n",
       "               Ca          Ba          Fe  \n",
       "count  218.000000  218.000000  218.000000  \n",
       "mean     8.799083    0.364358    0.049679  \n",
       "std      1.307588    0.647118    0.086666  \n",
       "min      5.430000    0.000000    0.000000  \n",
       "25%      8.270000    0.000000    0.000000  \n",
       "50%      8.590000    0.000000    0.000000  \n",
       "75%      9.015000    0.610000    0.090000  \n",
       "max     16.190000    3.150000    0.350000  "
      ]
     },
     "execution_count": 7,
     "metadata": {},
     "output_type": "execute_result"
    }
   ],
   "source": [
    "glass_df.describe()"
   ]
  },
  {
   "cell_type": "markdown",
   "metadata": {
    "id": "FIeKbfDVTJlg"
   },
   "source": [
    "    5. Remove any possible order effects in the data by shuffle the rows prior to building any models and save it as a new data frame object.  ( 1 point)\n"
   ]
  },
  {
   "cell_type": "code",
   "execution_count": 8,
   "metadata": {
    "id": "wowZRaIATJlg"
   },
   "outputs": [],
   "source": [
    "glas_shuffle = glass_df.sample(frac=1, random_state=42).reset_index(drop=True)"
   ]
  },
  {
   "cell_type": "code",
   "execution_count": 9,
   "metadata": {},
   "outputs": [
    {
     "data": {
      "text/html": [
       "<div>\n",
       "<style scoped>\n",
       "    .dataframe tbody tr th:only-of-type {\n",
       "        vertical-align: middle;\n",
       "    }\n",
       "\n",
       "    .dataframe tbody tr th {\n",
       "        vertical-align: top;\n",
       "    }\n",
       "\n",
       "    .dataframe thead th {\n",
       "        text-align: right;\n",
       "    }\n",
       "</style>\n",
       "<table border=\"1\" class=\"dataframe\">\n",
       "  <thead>\n",
       "    <tr style=\"text-align: right;\">\n",
       "      <th></th>\n",
       "      <th>RI</th>\n",
       "      <th>Na</th>\n",
       "      <th>Mg</th>\n",
       "      <th>Al</th>\n",
       "      <th>Si</th>\n",
       "      <th>K</th>\n",
       "      <th>Ca</th>\n",
       "      <th>Ba</th>\n",
       "      <th>Fe</th>\n",
       "    </tr>\n",
       "  </thead>\n",
       "  <tbody>\n",
       "    <tr>\n",
       "      <th>0</th>\n",
       "      <td>1.51655</td>\n",
       "      <td>12.75</td>\n",
       "      <td>2.85</td>\n",
       "      <td>1.44</td>\n",
       "      <td>73.27</td>\n",
       "      <td>0.57</td>\n",
       "      <td>8.79</td>\n",
       "      <td>0.11</td>\n",
       "      <td>0.22</td>\n",
       "    </tr>\n",
       "    <tr>\n",
       "      <th>1</th>\n",
       "      <td>1.51640</td>\n",
       "      <td>14.37</td>\n",
       "      <td>0.00</td>\n",
       "      <td>2.74</td>\n",
       "      <td>72.85</td>\n",
       "      <td>0.00</td>\n",
       "      <td>9.45</td>\n",
       "      <td>0.54</td>\n",
       "      <td>0.00</td>\n",
       "    </tr>\n",
       "    <tr>\n",
       "      <th>2</th>\n",
       "      <td>1.51674</td>\n",
       "      <td>12.87</td>\n",
       "      <td>3.56</td>\n",
       "      <td>1.64</td>\n",
       "      <td>73.14</td>\n",
       "      <td>0.65</td>\n",
       "      <td>7.99</td>\n",
       "      <td>0.00</td>\n",
       "      <td>0.00</td>\n",
       "    </tr>\n",
       "    <tr>\n",
       "      <th>3</th>\n",
       "      <td>1.52247</td>\n",
       "      <td>14.86</td>\n",
       "      <td>2.20</td>\n",
       "      <td>2.06</td>\n",
       "      <td>70.26</td>\n",
       "      <td>0.76</td>\n",
       "      <td>9.76</td>\n",
       "      <td>0.00</td>\n",
       "      <td>0.00</td>\n",
       "    </tr>\n",
       "    <tr>\n",
       "      <th>4</th>\n",
       "      <td>1.51761</td>\n",
       "      <td>12.81</td>\n",
       "      <td>3.54</td>\n",
       "      <td>1.23</td>\n",
       "      <td>73.24</td>\n",
       "      <td>0.58</td>\n",
       "      <td>8.39</td>\n",
       "      <td>0.00</td>\n",
       "      <td>0.00</td>\n",
       "    </tr>\n",
       "    <tr>\n",
       "      <th>...</th>\n",
       "      <td>...</td>\n",
       "      <td>...</td>\n",
       "      <td>...</td>\n",
       "      <td>...</td>\n",
       "      <td>...</td>\n",
       "      <td>...</td>\n",
       "      <td>...</td>\n",
       "      <td>...</td>\n",
       "      <td>...</td>\n",
       "    </tr>\n",
       "    <tr>\n",
       "      <th>213</th>\n",
       "      <td>1.53125</td>\n",
       "      <td>10.73</td>\n",
       "      <td>0.00</td>\n",
       "      <td>2.10</td>\n",
       "      <td>69.81</td>\n",
       "      <td>0.58</td>\n",
       "      <td>13.30</td>\n",
       "      <td>3.15</td>\n",
       "      <td>0.28</td>\n",
       "    </tr>\n",
       "    <tr>\n",
       "      <th>214</th>\n",
       "      <td>1.51763</td>\n",
       "      <td>12.61</td>\n",
       "      <td>3.59</td>\n",
       "      <td>1.31</td>\n",
       "      <td>73.29</td>\n",
       "      <td>0.58</td>\n",
       "      <td>8.50</td>\n",
       "      <td>0.00</td>\n",
       "      <td>0.00</td>\n",
       "    </tr>\n",
       "    <tr>\n",
       "      <th>215</th>\n",
       "      <td>1.51588</td>\n",
       "      <td>13.12</td>\n",
       "      <td>3.41</td>\n",
       "      <td>1.58</td>\n",
       "      <td>73.26</td>\n",
       "      <td>0.07</td>\n",
       "      <td>8.39</td>\n",
       "      <td>0.00</td>\n",
       "      <td>0.19</td>\n",
       "    </tr>\n",
       "    <tr>\n",
       "      <th>216</th>\n",
       "      <td>1.52365</td>\n",
       "      <td>15.79</td>\n",
       "      <td>1.83</td>\n",
       "      <td>1.31</td>\n",
       "      <td>70.43</td>\n",
       "      <td>0.31</td>\n",
       "      <td>8.61</td>\n",
       "      <td>1.68</td>\n",
       "      <td>0.00</td>\n",
       "    </tr>\n",
       "    <tr>\n",
       "      <th>217</th>\n",
       "      <td>1.51820</td>\n",
       "      <td>12.62</td>\n",
       "      <td>2.76</td>\n",
       "      <td>0.83</td>\n",
       "      <td>73.81</td>\n",
       "      <td>0.35</td>\n",
       "      <td>9.42</td>\n",
       "      <td>0.00</td>\n",
       "      <td>0.20</td>\n",
       "    </tr>\n",
       "  </tbody>\n",
       "</table>\n",
       "<p>218 rows × 9 columns</p>\n",
       "</div>"
      ],
      "text/plain": [
       "          RI     Na    Mg    Al     Si     K     Ca    Ba    Fe\n",
       "0    1.51655  12.75  2.85  1.44  73.27  0.57   8.79  0.11  0.22\n",
       "1    1.51640  14.37  0.00  2.74  72.85  0.00   9.45  0.54  0.00\n",
       "2    1.51674  12.87  3.56  1.64  73.14  0.65   7.99  0.00  0.00\n",
       "3    1.52247  14.86  2.20  2.06  70.26  0.76   9.76  0.00  0.00\n",
       "4    1.51761  12.81  3.54  1.23  73.24  0.58   8.39  0.00  0.00\n",
       "..       ...    ...   ...   ...    ...   ...    ...   ...   ...\n",
       "213  1.53125  10.73  0.00  2.10  69.81  0.58  13.30  3.15  0.28\n",
       "214  1.51763  12.61  3.59  1.31  73.29  0.58   8.50  0.00  0.00\n",
       "215  1.51588  13.12  3.41  1.58  73.26  0.07   8.39  0.00  0.19\n",
       "216  1.52365  15.79  1.83  1.31  70.43  0.31   8.61  1.68  0.00\n",
       "217  1.51820  12.62  2.76  0.83  73.81  0.35   9.42  0.00  0.20\n",
       "\n",
       "[218 rows x 9 columns]"
      ]
     },
     "execution_count": 9,
     "metadata": {},
     "output_type": "execute_result"
    }
   ],
   "source": [
    "glas_shuffle"
   ]
  },
  {
   "cell_type": "markdown",
   "metadata": {
    "id": "tQOYchbRTJlg"
   },
   "source": [
    "    6. Transform each observation into a z-score  ( 1 point)"
   ]
  },
  {
   "cell_type": "code",
   "execution_count": 10,
   "metadata": {
    "id": "-ErC2lSSTJlg"
   },
   "outputs": [],
   "source": [
    "#\n",
    "glassdf_zsc = glass_df.apply(zscore)"
   ]
  },
  {
   "cell_type": "code",
   "execution_count": 11,
   "metadata": {},
   "outputs": [
    {
     "data": {
      "text/html": [
       "<div>\n",
       "<style scoped>\n",
       "    .dataframe tbody tr th:only-of-type {\n",
       "        vertical-align: middle;\n",
       "    }\n",
       "\n",
       "    .dataframe tbody tr th {\n",
       "        vertical-align: top;\n",
       "    }\n",
       "\n",
       "    .dataframe thead th {\n",
       "        text-align: right;\n",
       "    }\n",
       "</style>\n",
       "<table border=\"1\" class=\"dataframe\">\n",
       "  <thead>\n",
       "    <tr style=\"text-align: right;\">\n",
       "      <th></th>\n",
       "      <th>RI</th>\n",
       "      <th>Na</th>\n",
       "      <th>Mg</th>\n",
       "      <th>Al</th>\n",
       "      <th>Si</th>\n",
       "      <th>K</th>\n",
       "      <th>Ca</th>\n",
       "      <th>Ba</th>\n",
       "      <th>Fe</th>\n",
       "    </tr>\n",
       "  </thead>\n",
       "  <tbody>\n",
       "    <tr>\n",
       "      <th>0</th>\n",
       "      <td>0.968626</td>\n",
       "      <td>0.047014</td>\n",
       "      <td>1.316983</td>\n",
       "      <td>-0.874202</td>\n",
       "      <td>-1.272213</td>\n",
       "      <td>-0.855289</td>\n",
       "      <td>-0.037623</td>\n",
       "      <td>-0.564343</td>\n",
       "      <td>-0.574543</td>\n",
       "    </tr>\n",
       "    <tr>\n",
       "      <th>1</th>\n",
       "      <td>-0.166609</td>\n",
       "      <td>0.333944</td>\n",
       "      <td>0.774210</td>\n",
       "      <td>-0.390978</td>\n",
       "      <td>-0.020489</td>\n",
       "      <td>0.111743</td>\n",
       "      <td>-0.742828</td>\n",
       "      <td>-0.564343</td>\n",
       "      <td>-0.574543</td>\n",
       "    </tr>\n",
       "    <tr>\n",
       "      <th>2</th>\n",
       "      <td>-0.644076</td>\n",
       "      <td>-0.079235</td>\n",
       "      <td>0.743717</td>\n",
       "      <td>-0.056439</td>\n",
       "      <td>0.322088</td>\n",
       "      <td>-0.095478</td>\n",
       "      <td>-0.781154</td>\n",
       "      <td>-0.564343</td>\n",
       "      <td>-0.574543</td>\n",
       "    </tr>\n",
       "    <tr>\n",
       "      <th>3</th>\n",
       "      <td>-0.149915</td>\n",
       "      <td>-0.446504</td>\n",
       "      <td>0.829097</td>\n",
       "      <td>-0.521077</td>\n",
       "      <td>-0.178602</td>\n",
       "      <td>0.318964</td>\n",
       "      <td>-0.443882</td>\n",
       "      <td>-0.564343</td>\n",
       "      <td>-0.574543</td>\n",
       "    </tr>\n",
       "    <tr>\n",
       "      <th>4</th>\n",
       "      <td>-0.230049</td>\n",
       "      <td>-0.377641</td>\n",
       "      <td>0.786407</td>\n",
       "      <td>-0.614005</td>\n",
       "      <td>0.440672</td>\n",
       "      <td>0.272915</td>\n",
       "      <td>-0.558861</td>\n",
       "      <td>-0.564343</td>\n",
       "      <td>-0.574543</td>\n",
       "    </tr>\n",
       "    <tr>\n",
       "      <th>...</th>\n",
       "      <td>...</td>\n",
       "      <td>...</td>\n",
       "      <td>...</td>\n",
       "      <td>...</td>\n",
       "      <td>...</td>\n",
       "      <td>...</td>\n",
       "      <td>...</td>\n",
       "      <td>...</td>\n",
       "      <td>...</td>\n",
       "    </tr>\n",
       "    <tr>\n",
       "      <th>213</th>\n",
       "      <td>-0.553925</td>\n",
       "      <td>1.539048</td>\n",
       "      <td>-1.421274</td>\n",
       "      <td>0.556884</td>\n",
       "      <td>0.480200</td>\n",
       "      <td>-0.993436</td>\n",
       "      <td>-0.098945</td>\n",
       "      <td>1.573099</td>\n",
       "      <td>-0.574543</td>\n",
       "    </tr>\n",
       "    <tr>\n",
       "      <th>214</th>\n",
       "      <td>0.067115</td>\n",
       "      <td>0.907803</td>\n",
       "      <td>-1.421274</td>\n",
       "      <td>0.463956</td>\n",
       "      <td>0.150799</td>\n",
       "      <td>2.253028</td>\n",
       "      <td>-1.785304</td>\n",
       "      <td>3.896405</td>\n",
       "      <td>-0.574543</td>\n",
       "    </tr>\n",
       "    <tr>\n",
       "      <th>215</th>\n",
       "      <td>-0.570619</td>\n",
       "      <td>0.884848</td>\n",
       "      <td>-1.421274</td>\n",
       "      <td>2.173826</td>\n",
       "      <td>0.137623</td>\n",
       "      <td>-0.993436</td>\n",
       "      <td>0.498946</td>\n",
       "      <td>0.272047</td>\n",
       "      <td>-0.574543</td>\n",
       "    </tr>\n",
       "    <tr>\n",
       "      <th>216</th>\n",
       "      <td>-0.627381</td>\n",
       "      <td>0.620873</td>\n",
       "      <td>-1.421274</td>\n",
       "      <td>2.434023</td>\n",
       "      <td>-0.178602</td>\n",
       "      <td>-0.809240</td>\n",
       "      <td>0.291983</td>\n",
       "      <td>1.077460</td>\n",
       "      <td>-0.574543</td>\n",
       "    </tr>\n",
       "    <tr>\n",
       "      <th>217</th>\n",
       "      <td>-0.420368</td>\n",
       "      <td>1.516093</td>\n",
       "      <td>-1.421274</td>\n",
       "      <td>0.779911</td>\n",
       "      <td>0.414320</td>\n",
       "      <td>-0.993436</td>\n",
       "      <td>-0.305907</td>\n",
       "      <td>1.898361</td>\n",
       "      <td>-0.574543</td>\n",
       "    </tr>\n",
       "  </tbody>\n",
       "</table>\n",
       "<p>218 rows × 9 columns</p>\n",
       "</div>"
      ],
      "text/plain": [
       "           RI        Na        Mg        Al        Si         K        Ca  \\\n",
       "0    0.968626  0.047014  1.316983 -0.874202 -1.272213 -0.855289 -0.037623   \n",
       "1   -0.166609  0.333944  0.774210 -0.390978 -0.020489  0.111743 -0.742828   \n",
       "2   -0.644076 -0.079235  0.743717 -0.056439  0.322088 -0.095478 -0.781154   \n",
       "3   -0.149915 -0.446504  0.829097 -0.521077 -0.178602  0.318964 -0.443882   \n",
       "4   -0.230049 -0.377641  0.786407 -0.614005  0.440672  0.272915 -0.558861   \n",
       "..        ...       ...       ...       ...       ...       ...       ...   \n",
       "213 -0.553925  1.539048 -1.421274  0.556884  0.480200 -0.993436 -0.098945   \n",
       "214  0.067115  0.907803 -1.421274  0.463956  0.150799  2.253028 -1.785304   \n",
       "215 -0.570619  0.884848 -1.421274  2.173826  0.137623 -0.993436  0.498946   \n",
       "216 -0.627381  0.620873 -1.421274  2.434023 -0.178602 -0.809240  0.291983   \n",
       "217 -0.420368  1.516093 -1.421274  0.779911  0.414320 -0.993436 -0.305907   \n",
       "\n",
       "           Ba        Fe  \n",
       "0   -0.564343 -0.574543  \n",
       "1   -0.564343 -0.574543  \n",
       "2   -0.564343 -0.574543  \n",
       "3   -0.564343 -0.574543  \n",
       "4   -0.564343 -0.574543  \n",
       "..        ...       ...  \n",
       "213  1.573099 -0.574543  \n",
       "214  3.896405 -0.574543  \n",
       "215  0.272047 -0.574543  \n",
       "216  1.077460 -0.574543  \n",
       "217  1.898361 -0.574543  \n",
       "\n",
       "[218 rows x 9 columns]"
      ]
     },
     "execution_count": 11,
     "metadata": {},
     "output_type": "execute_result"
    }
   ],
   "source": [
    "glassdf_zsc"
   ]
  },
  {
   "cell_type": "code",
   "execution_count": 12,
   "metadata": {},
   "outputs": [],
   "source": [
    "scaler = StandardScaler()\n",
    "glass_scaled = scaler.fit_transform(glas_shuffle)"
   ]
  },
  {
   "cell_type": "code",
   "execution_count": 13,
   "metadata": {},
   "outputs": [
    {
     "data": {
      "text/plain": [
       "array([[-0.52053556, -0.97445462,  0.31681774, ..., -0.00696203,\n",
       "        -0.39396738,  1.96978677],\n",
       "       [-0.57061946,  0.88484838, -1.42127375, ...,  0.49894567,\n",
       "         0.27204709, -0.57454325],\n",
       "       [-0.45709596, -0.83672847,  0.74981597, ..., -0.62018349,\n",
       "        -0.56434318, -0.57454325],\n",
       "       ...,\n",
       "       [-0.74424363, -0.54979899,  0.65833747, ..., -0.31357276,\n",
       "        -0.56434318,  1.62283268],\n",
       "       [ 1.85010218,  2.5146078 , -0.30523606, ..., -0.14493686,\n",
       "         2.03775988, -0.57454325],\n",
       "       [ 0.03038729, -1.12365794,  0.26193064, ...,  0.47594986,\n",
       "        -0.56434318,  1.73848404]], shape=(218, 9))"
      ]
     },
     "execution_count": 13,
     "metadata": {},
     "output_type": "execute_result"
    }
   ],
   "source": [
    "glass_scaled"
   ]
  },
  {
   "cell_type": "markdown",
   "metadata": {
    "id": "ZPRdUNfbTJlg"
   },
   "source": [
    "    7. Perform hierarchical clustering using the linkage function on scaled_features with complete method.  ( 1 point)"
   ]
  },
  {
   "cell_type": "code",
   "execution_count": 14,
   "metadata": {
    "id": "wW2VGlKQTJlg"
   },
   "outputs": [],
   "source": [
    "# create linkage model\n",
    "glass_hc = linkage(glass_scaled, method = 'complete')"
   ]
  },
  {
   "cell_type": "markdown",
   "metadata": {
    "id": "dIij1F5NTJlg"
   },
   "source": [
    "Now that the HCA model has been built, we will continue with the analysis by visualizing clusters using a dendrogram and using the visualization to generate predictions."
   ]
  },
  {
   "cell_type": "markdown",
   "metadata": {
    "id": "zFBumJW1TJlg"
   },
   "source": [
    "    8. Display the dendrogram by plotting the HCA model:  ( 1 point)\n",
    "    - the leaf_rotation is 90 and , leaf_font_size is 6"
   ]
  },
  {
   "cell_type": "code",
   "execution_count": 15,
   "metadata": {
    "id": "jO3hiLPkTJlh"
   },
   "outputs": [
    {
     "data": {
      "text/plain": [
       "Text(0.5, 1.0, 'Dendrogram for Glass Data')"
      ]
     },
     "execution_count": 15,
     "metadata": {},
     "output_type": "execute_result"
    },
    {
     "data": {
      "image/png": "[encoded data removed]",
      "text/plain": [
       "<Figure size 1000x500 with 1 Axes>"
      ]
     },
     "metadata": {},
     "output_type": "display_data"
    }
   ],
   "source": [
    "# plot dendrogram:\n",
    "plt.figure(figsize=(10,5))\n",
    "glass_ward = dendrogram(glass_hc, leaf_rotation=90, leaf_font_size=6, link_color_func=lambda x: 'black')\n",
    "plt.title('Dendrogram for Glass Data')"
   ]
  },
  {
   "cell_type": "markdown",
   "metadata": {
    "id": "b4MREAkETJlh"
   },
   "source": [
    "    9. interpret the HCA dendrogram, utilizing HCA clusters our data into three groups  ( 1 point)"
   ]
  },
  {
   "cell_type": "markdown",
   "metadata": {},
   "source": [
    "Notes:\n",
    "In the dendrogram, the vertical lines represent clusters, and the height at which they merge or split indicates the level of similarity or distance between the data points or clusters. \n",
    "The longer the vertical lines, the greater the dissimilarity between the merged clusters."
   ]
  },
  {
   "cell_type": "code",
   "execution_count": 16,
   "metadata": {},
   "outputs": [],
   "source": [
    "ac = AgglomerativeClustering(3, linkage='ward')\n",
    "ac_clusters = ac.fit_predict(glass_scaled)"
   ]
  },
  {
   "cell_type": "markdown",
   "metadata": {
    "id": "M8NAIGbLTJlh"
   },
   "source": [
    "HCA has drawbacks include:\n",
    "\n",
    "1. Vagueness in terms of the termination criteria (that is, when to finalize the number of clusters)\n",
    "2. The algorithm cannot adjust once the clustering decisions have been made\n",
    "3. Can be very computationally expensive to build HCA models on large datasets with many features"
   ]
  },
  {
   "cell_type": "markdown",
   "metadata": {
    "id": "YTXdsMw7TJlh"
   },
   "source": [
    "To address some of the HCA shortcomings,  use k-means, which has the ability to adjust when the clusters have been initially generated. It is more computationally frugal than HCA."
   ]
  },
  {
   "cell_type": "markdown",
   "metadata": {
    "id": "92yCQHJ6TJlh"
   },
   "source": [
    "    10. Compute Silhouette score to measure how close observations within a cluster and plot the results.  ( 2 points)"
   ]
  },
  {
   "cell_type": "code",
   "execution_count": 17,
   "metadata": {
    "id": "qUJTsoXoTJlh"
   },
   "outputs": [
    {
     "name": "stdout",
     "output_type": "stream",
     "text": [
      "Silhouette sore:  0.4005284515298445\n"
     ]
    }
   ],
   "source": [
    "print(\"Silhouette sore: \", silhouette_score(glass_scaled, ac_clusters))"
   ]
  },
  {
   "cell_type": "markdown",
   "metadata": {
    "id": "uIsocozQTJli"
   },
   "source": [
    "    11. apply k-Means Clustering for Optimal Number of Clusters  ( 1 point)"
   ]
  },
  {
   "cell_type": "code",
   "execution_count": 18,
   "metadata": {
    "id": "afke5WjeTJli"
   },
   "outputs": [],
   "source": [
    "km = KMeans(3, random_state = 42)\n",
    "glas_shuffle['Cluster'] = km.fit_predict(glass_scaled)"
   ]
  },
  {
   "cell_type": "markdown",
   "metadata": {
    "id": "1sja8CzITJli"
   },
   "source": [
    "    12. print the number of glasses that fall within each of clusters. ( 2 points)"
   ]
  },
  {
   "cell_type": "code",
   "execution_count": 19,
   "metadata": {
    "id": "6GSV9dnFTJli"
   },
   "outputs": [
    {
     "name": "stdout",
     "output_type": "stream",
     "text": [
      "\n",
      "Number of glasses per cluster:\n",
      "Cluster\n",
      "0    121\n",
      "1     59\n",
      "2     38\n",
      "Name: count, dtype: int64\n"
     ]
    }
   ],
   "source": [
    "print(\"\\nNumber of glasses per cluster:\")\n",
    "print(glas_shuffle['Cluster'].value_counts())"
   ]
  },
  {
   "cell_type": "markdown",
   "metadata": {
    "id": "nCyMOuT5TJli"
   },
   "source": [
    "    13. Using PCA to Transform Group-Related Features into Components  ( 1 point)"
   ]
  },
  {
   "cell_type": "code",
   "execution_count": 20,
   "metadata": {
    "id": "4sAeG9oDTJli"
   },
   "outputs": [],
   "source": [
    "pca = PCA(n_components=2)\n",
    "pca_components = pca.fit_transform(glass_scaled)\n",
    "\n",
    "glas_shuffle['PCA1'] = pca_components[:, 0]\n",
    "glas_shuffle['PCA2'] = pca_components[:, 1]"
   ]
  },
  {
   "cell_type": "markdown",
   "metadata": {
    "id": "KLBrxqhNTJli"
   },
   "source": [
    "    14. Get proportion of explained variance in each component ( 2 points)"
   ]
  },
  {
   "cell_type": "code",
   "execution_count": 21,
   "metadata": {
    "id": "58I5SMoeTJli"
   },
   "outputs": [
    {
     "data": {
      "image/png": "[encoded data removed]",
      "text/plain": [
       "<Figure size 800x600 with 1 Axes>"
      ]
     },
     "metadata": {},
     "output_type": "display_data"
    }
   ],
   "source": [
    "plt.figure(figsize=(8, 6))\n",
    "sns.scatterplot(x='PCA1', y='PCA2', hue='Cluster', palette='Set1', data=glas_shuffle, s=100, alpha=0.7)\n",
    "plt.title('Clusters Visualized in 2D PCA Space')\n",
    "plt.xlabel('Principal Component 1')\n",
    "plt.ylabel('Principal Component 2')\n",
    "plt.legend(title='Cluster')\n",
    "plt.grid(True)\n",
    "plt.show()"
   ]
  },
  {
   "cell_type": "markdown",
   "metadata": {
    "id": "w4zo7bOdTJli"
   },
   "source": [
    "    15. Get the cumulative sum of explained variance by each component and plot the result.  ( 2 points)"
   ]
  },
  {
   "cell_type": "code",
   "execution_count": 22,
   "metadata": {
    "id": "FMaCFti7TJli"
   },
   "outputs": [
    {
     "name": "stdout",
     "output_type": "stream",
     "text": [
      "Explained Variance Ratio by PCA components:\n",
      "[0.35314362 0.25053256]\n"
     ]
    }
   ],
   "source": [
    "print(\"Explained Variance Ratio by PCA components:\")\n",
    "print(pca.explained_variance_ratio_)"
   ]
  },
  {
   "cell_type": "markdown",
   "metadata": {
    "id": "r-jp1uRdTJlj"
   },
   "source": [
    "    16. Fit the PCA model with the best number of components ( 2 points)"
   ]
  },
  {
   "cell_type": "code",
   "execution_count": 23,
   "metadata": {
    "id": "_mx7VSHJTJlj"
   },
   "outputs": [
    {
     "data": {
      "image/png": "[encoded data removed]",
      "text/plain": [
       "<Figure size 1000x600 with 1 Axes>"
      ]
     },
     "metadata": {},
     "output_type": "display_data"
    }
   ],
   "source": [
    "centroids = km.cluster_centers_\n",
    "centroids_2d = pca.transform(centroids)\n",
    "\n",
    "plt.figure(figsize=(10, 6))\n",
    "sns.scatterplot( x='PCA1', y='PCA2', hue='Cluster', palette='Set1', data=glas_shuffle, s=100, alpha=0.7)\n",
    "plt.scatter(centroids_2d[:, 0], centroids_2d[:, 1],c='black', s=200, marker='X', label='Centroids')\n",
    "plt.title('KMeans Clusters and Centroids in PCA Space')\n",
    "plt.xlabel('PCA1')\n",
    "plt.ylabel('PCA2')\n",
    "plt.legend()\n",
    "plt.grid(True)\n",
    "plt.show()"
   ]
  },
  {
   "cell_type": "markdown",
   "metadata": {
    "id": "QY-EvKM4TJlj"
   },
   "source": [
    "    17. Plot the first and second components ( 2 points)"
   ]
  },
  {
   "cell_type": "code",
   "execution_count": 24,
   "metadata": {
    "id": "5fImbM03TJlj"
   },
   "outputs": [
    {
     "data": {
      "image/png": "[encoded data removed]",
      "text/plain": [
       "<Figure size 1000x600 with 1 Axes>"
      ]
     },
     "metadata": {},
     "output_type": "display_data"
    }
   ],
   "source": [
    "plt.figure(figsize=(10, 6))\n",
    "plt.scatter(glas_shuffle['PCA1'], glas_shuffle['PCA2'], alpha=0.7, color='teal', s=60)\n",
    "plt.title('PCA: First vs Second Component')\n",
    "plt.xlabel('Principal Component 1')\n",
    "plt.ylabel('Principal Component 2')\n",
    "plt.grid(True)\n",
    "plt.show()"
   ]
  },
  {
   "cell_type": "code",
   "execution_count": null,
   "metadata": {},
   "outputs": [],
   "source": []
  }
 ],
 "metadata": {
  "colab": {
   "provenance": []
  },
  "kernelspec": {
   "display_name": "Python 3 (ipykernel)",
   "language": "python",
   "name": "python3"
  },
  "language_info": {
   "codemirror_mode": {
    "name": "ipython",
    "version": 3
   },
   "file_extension": ".py",
   "mimetype": "text/x-python",
   "name": "python",
   "nbconvert_exporter": "python",
   "pygments_lexer": "ipython3",
   "version": "3.12.8"
  },
  "vscode": {
   "interpreter": {
    "hash": "9be90a182e443121e767cfcadea61fa0eeced8ec62a9bd8ae9861f6c1d839655"
   }
  }
 },
 "nbformat": 4,
 "nbformat_minor": 4
}
